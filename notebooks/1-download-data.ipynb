{
 "cells": [
  {
   "cell_type": "code",
   "execution_count": 2,
   "metadata": {},
   "outputs": [
    {
     "name": "stdout",
     "output_type": "stream",
     "text": [
      "Downloading rossman-fastai-sample.zip to /spell/notebooks\n",
      "\n",
      "Archive:  rossman-fastai-sample.zip\n",
      "  inflating: /mnt/rossman-fastai-sample/test_clean  \n",
      "  inflating: /mnt/rossman-fastai-sample/train_clean  \n"
     ]
    },
    {
     "name": "stderr",
     "output_type": "stream",
     "text": [
      "100%|██████████| 23.3M/23.3M [00:00<00:00, 55.6MB/s]\n"
     ]
    }
   ],
   "source": [
    "%%bash\n",
    "export KAGGLE_USERNAME=residentmario KAGGLE_KEY=ea4163444bc3b21c1b810b218c385038\n",
    "kaggle datasets download residentmario/rossman-fastai-sample\n",
    "unzip rossman-fastai-sample.zip -d /mnt/rossman-fastai-sample/\n",
    "rm rossman-fastai-sample.zip"
   ]
  }
 ],
 "metadata": {
  "kernelspec": {
   "display_name": "Python 3",
   "language": "python",
   "name": "python3"
  },
  "language_info": {
   "codemirror_mode": {
    "name": "ipython",
    "version": 3
   },
   "file_extension": ".py",
   "mimetype": "text/x-python",
   "name": "python",
   "nbconvert_exporter": "python",
   "pygments_lexer": "ipython3",
   "version": "3.7.7"
  }
 },
 "nbformat": 4,
 "nbformat_minor": 4
}
